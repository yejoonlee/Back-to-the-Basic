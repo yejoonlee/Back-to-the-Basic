{
 "cells": [
  {
   "cell_type": "markdown",
   "id": "3f6294cb",
   "metadata": {},
   "source": [
    "## Numpy를 사용하는 이유\n",
    "\n",
    "- 성능: 파이썬 리스트보다 빠름\n",
    "- 메모리 사이즈: 파이썬 리스트보다 적은 메모리 사용\n",
    "- 빌트인 함수: 선형대수, 통계관련 여러 함수 내장"
   ]
  },
  {
   "cell_type": "markdown",
   "id": "b249b0e3",
   "metadata": {},
   "source": [
    "---\n",
    "## ndarray\n",
    "\n",
    "연속된 메모리 Vectorization 사용"
   ]
  },
  {
   "cell_type": "code",
   "execution_count": 1,
   "id": "d3d4063a",
   "metadata": {},
   "outputs": [],
   "source": [
    "import numpy as np\n",
    "import matplotlib.pyplot as plt"
   ]
  },
  {
   "cell_type": "markdown",
   "id": "36c7c7bf",
   "metadata": {},
   "source": [
    "### ndarray 생성 방법"
   ]
  },
  {
   "cell_type": "code",
   "execution_count": 11,
   "id": "45647c72",
   "metadata": {},
   "outputs": [
    {
     "name": "stdout",
     "output_type": "stream",
     "text": [
      "=== np.array ===\n",
      "list를 ndarray로:\n",
      " [1 2 3]\n"
     ]
    }
   ],
   "source": [
    "print(\"=== np.array ===\")\n",
    "print(\"list를 ndarray로:\\n\",\n",
    "      np.array([1,2,3]))"
   ]
  },
  {
   "cell_type": "code",
   "execution_count": 12,
   "id": "51fbc7b2",
   "metadata": {},
   "outputs": [
    {
     "name": "stdout",
     "output_type": "stream",
     "text": [
      "\n",
      "=== np.arange ===\n",
      "길이 지정:\n",
      " [0 1 2 3 4 5 6 7 8 9]\n",
      "시작과 끝 지정:\n",
      " [1 2 3 4 5 6 7 8 9]\n",
      "시작과 끝, 간격 지정:\n",
      " [1 3 5 7 9]\n"
     ]
    }
   ],
   "source": [
    "print(\"\\n=== np.arange ===\")\n",
    "print(\"길이 지정:\\n\",\n",
    "      np.arange(10))\n",
    "print(\"시작과 끝 지정:\\n\",\n",
    "      np.arange(1,10))\n",
    "print(\"시작과 끝, 간격 지정:\\n\",\n",
    "      np.arange(1,10,2))"
   ]
  },
  {
   "cell_type": "code",
   "execution_count": 13,
   "id": "f7a75d41",
   "metadata": {},
   "outputs": [
    {
     "name": "stdout",
     "output_type": "stream",
     "text": [
      "\n",
      "=== np.ones, np.zeros ===\n",
      "행렬의 형태 지정:\n",
      " [[1. 1. 1. 1.]\n",
      " [1. 1. 1. 1.]\n",
      " [1. 1. 1. 1.]]\n",
      "행렬의 형태 지정:\n",
      " [[[0. 0.]\n",
      "  [0. 0.]\n",
      "  [0. 0.]\n",
      "  [0. 0.]]\n",
      "\n",
      " [[0. 0.]\n",
      "  [0. 0.]\n",
      "  [0. 0.]\n",
      "  [0. 0.]]\n",
      "\n",
      " [[0. 0.]\n",
      "  [0. 0.]\n",
      "  [0. 0.]\n",
      "  [0. 0.]]]\n"
     ]
    }
   ],
   "source": [
    "print(\"\\n=== np.ones, np.zeros ===\")\n",
    "print(\"행렬의 형태를 튜플로 지정:\\n\",\n",
    "      np.ones((3,4)))\n",
    "print(\"행렬의 형태를 튜플로 지정:\\n\",\n",
    "      np.zeros((3,4,2)))"
   ]
  },
  {
   "cell_type": "code",
   "execution_count": 16,
   "id": "8b052c92",
   "metadata": {},
   "outputs": [
    {
     "name": "stdout",
     "output_type": "stream",
     "text": [
      "\n",
      "=== np.empty, np.full ===\n",
      "행렬의 형태를 튜플로 지정(초기화가 되지 않음):\n",
      " [[3.5e-323 3.5e-323 3.5e-323 3.5e-323]\n",
      " [3.5e-323 3.5e-323 3.5e-323 3.5e-323]\n",
      " [3.5e-323 3.5e-323 3.5e-323 3.5e-323]]\n",
      "행렬의 형태를 튜플로 지정하고 값도 넘겨줌:\n",
      " [[7 7 7 7]\n",
      " [7 7 7 7]\n",
      " [7 7 7 7]]\n"
     ]
    }
   ],
   "source": [
    "print(\"\\n=== np.empty, np.full ===\")\n",
    "print(\"행렬의 형태를 튜플로 지정(초기화가 되지 않음):\\n\",\n",
    "      np.empty((3,4)))\n",
    "print(\"행렬의 형태를 튜플로 지정하고 값도 넘겨줌:\\n\",\n",
    "      np.full((3,4),7))"
   ]
  },
  {
   "cell_type": "code",
   "execution_count": 17,
   "id": "469838b9",
   "metadata": {},
   "outputs": [
    {
     "name": "stdout",
     "output_type": "stream",
     "text": [
      "\n",
      "=== np.eye ===\n",
      "단위행렬 크기 지정:\n",
      " [[1. 0. 0.]\n",
      " [0. 1. 0.]\n",
      " [0. 0. 1.]]\n"
     ]
    }
   ],
   "source": [
    "print(\"\\n=== np.eye ===\")\n",
    "print(\"단위행렬 크기 지정:\\n\",\n",
    "      np.eye(3))"
   ]
  },
  {
   "cell_type": "code",
   "execution_count": 18,
   "id": "10975233",
   "metadata": {},
   "outputs": [
    {
     "name": "stdout",
     "output_type": "stream",
     "text": [
      "\n",
      "=== np.linspace ===\n",
      "시작, 끝, 수 지정:\n",
      " [ 1.    3.25  5.5   7.75 10.  ]\n"
     ]
    }
   ],
   "source": [
    "print(\"\\n=== np.linspace ===\")\n",
    "print(\"시작, 끝, 수 지정:\\n\",\n",
    "      np.linspace(1,10,5))"
   ]
  },
  {
   "cell_type": "markdown",
   "id": "47ab03aa",
   "metadata": {},
   "source": [
    "### reshpe"
   ]
  },
  {
   "cell_type": "code",
   "execution_count": 21,
   "id": "a61833e0",
   "metadata": {},
   "outputs": [
    {
     "name": "stdout",
     "output_type": "stream",
     "text": [
      "[ 1  2  3  4  5  6  7  8  9 10 11 12 13 14 15]\n",
      "[[ 1  2  3  4  5]\n",
      " [ 6  7  8  9 10]\n",
      " [11 12 13 14 15]]\n"
     ]
    }
   ],
   "source": [
    "x = np.arange(1,16)\n",
    "print(x)\n",
    "\n",
    "print(x.reshape(3,5))"
   ]
  },
  {
   "cell_type": "markdown",
   "id": "dba088c9",
   "metadata": {},
   "source": [
    "### random"
   ]
  },
  {
   "cell_type": "code",
   "execution_count": 23,
   "id": "c01b20a9",
   "metadata": {},
   "outputs": [
    {
     "data": {
      "text/plain": [
       "array([[0.50312721, 0.27978402, 0.31484109],\n",
       "       [0.26736883, 0.15193282, 0.56963652]])"
      ]
     },
     "execution_count": 23,
     "metadata": {},
     "output_type": "execute_result"
    }
   ],
   "source": [
    "# rand\n",
    "# 0과 1 사이의 분포로 랜덤한 ndarray생성\n",
    "np.random.rand(2,3)"
   ]
  },
  {
   "cell_type": "code",
   "execution_count": 24,
   "id": "e006b469",
   "metadata": {},
   "outputs": [
    {
     "data": {
      "text/plain": [
       "array([[ 1.00800868,  0.82693389,  1.05641879],\n",
       "       [ 1.25218608,  0.15248729, -0.84137654]])"
      ]
     },
     "execution_count": 24,
     "metadata": {},
     "output_type": "execute_result"
    }
   ],
   "source": [
    "# randn\n",
    "# 정규분포로 랜덤한 ndarray생성\n",
    "np.random.randn(2,3)"
   ]
  },
  {
   "cell_type": "code",
   "execution_count": 26,
   "id": "24035df1",
   "metadata": {},
   "outputs": [
    {
     "data": {
      "text/plain": [
       "array([[83, 83, 27, 62, 19],\n",
       "       [25, 82, 49, 86, 30],\n",
       "       [28, 67, 90,  2, 21]])"
      ]
     },
     "execution_count": 26,
     "metadata": {},
     "output_type": "execute_result"
    }
   ],
   "source": [
    "# randint\n",
    "# 특정 정수 사이에서 랜덤한 ndarray생성\n",
    "np.random.randint(1,100, size=(3,5))"
   ]
  },
  {
   "cell_type": "markdown",
   "id": "58443bdf",
   "metadata": {},
   "source": [
    "### seed"
   ]
  },
  {
   "cell_type": "code",
   "execution_count": 47,
   "id": "6bf4fd1a",
   "metadata": {},
   "outputs": [
    {
     "name": "stdout",
     "output_type": "stream",
     "text": [
      "[[ 0.66698806  0.02581308 -0.77761941  0.94863382]\n",
      " [ 0.70167179 -1.05108156 -0.36754812 -1.13745969]\n",
      " [-1.32214752  1.77225828 -0.34745899  0.67014016]]\n",
      "[[ 0.32227152  0.06034293 -1.04345    -1.00994188]\n",
      " [ 0.44173637  1.12887685 -1.83806777 -0.93876863]\n",
      " [-0.20184052  1.04537128  0.53816197  0.81211867]]\n",
      "[[ 0.2411063  -0.95250953 -0.13626676  1.26724821]\n",
      " [ 0.17363364 -1.22325477  1.41531998  0.45771098]\n",
      " [ 0.72887584  1.96843473 -0.54778801 -0.67941827]]\n"
     ]
    }
   ],
   "source": [
    "# 랜덤한 값을 동일하게 다시 생성하고자 할 때 사용\n",
    "# seed를 지정한 뒤 random을 호출하는 횟수에따른 값이 항상 같다.\n",
    "# 첫번째 호출한 값이 다시 seed를 지정하고 첫번째 호출한 값과 같다.\n",
    "np.random.seed(23)\n",
    "print(np.random.randn(3,4))\n",
    "print(np.random.randn(3,4))\n",
    "print(np.random.randn(3,4))"
   ]
  },
  {
   "cell_type": "markdown",
   "id": "b29db0b9",
   "metadata": {},
   "source": [
    "### choice\n",
    "  \n",
    "주어진 1차원 ndarray로 부터 랜덤으로 샘플링  \n",
    "정수가 주어진 경우, np.arange(해당숫자)로 간주"
   ]
  },
  {
   "cell_type": "code",
   "execution_count": 50,
   "id": "1b1bbbc4",
   "metadata": {},
   "outputs": [
    {
     "data": {
      "text/plain": [
       "array([[26, 37, 41, 56],\n",
       "       [39, 81, 32, 53],\n",
       "       [35, 23, 29, 42]])"
      ]
     },
     "execution_count": 50,
     "metadata": {},
     "output_type": "execute_result"
    }
   ],
   "source": [
    "np.random.choice(100, size=(3,4))"
   ]
  },
  {
   "cell_type": "code",
   "execution_count": 53,
   "id": "137854ea",
   "metadata": {},
   "outputs": [
    {
     "name": "stdout",
     "output_type": "stream",
     "text": [
      "[[14 12 92 46 94]\n",
      " [73 37 19 59 75]\n",
      " [30 49 50 13 33]\n",
      " [26 47 77 69 55]\n",
      " [18 74 27 80 40]]\n",
      "[[54 77 18 98 56]\n",
      " [ 3 35 21 76 57]\n",
      " [86 81  0 68 84]\n",
      " [21 52 72 93 21]\n",
      " [96 60 67 99 60]]\n"
     ]
    }
   ],
   "source": [
    "x = np.arange(100)\n",
    "print(np.random.choice(x, size=(5,5), replace=False))\n",
    "print(np.random.choice(x, size=(5,5), replace=True)) # 중복 허용"
   ]
  },
  {
   "cell_type": "markdown",
   "id": "f8e30fca",
   "metadata": {},
   "source": [
    "### 확률분포에 따른 ndarray 생성"
   ]
  },
  {
   "cell_type": "code",
   "execution_count": 55,
   "id": "09868faf",
   "metadata": {},
   "outputs": [
    {
     "data": {
      "text/plain": [
       "array([[2.34075612, 2.53384477, 1.99015233, 1.59431279, 1.74101396],\n",
       "       [2.02903154, 2.81253543, 2.57165079, 2.52918349, 2.64235248],\n",
       "       [2.43677013, 2.4225355 , 1.81897025, 2.38485115, 1.88328477],\n",
       "       [2.03332074, 1.9407021 , 1.20625581, 1.58196777, 2.88336093]])"
      ]
     },
     "execution_count": 55,
     "metadata": {},
     "output_type": "execute_result"
    }
   ],
   "source": [
    "np.random.uniform(1.0,3.0, size=(4,5))"
   ]
  },
  {
   "cell_type": "code",
   "execution_count": 56,
   "id": "7db70897",
   "metadata": {},
   "outputs": [
    {
     "data": {
      "text/plain": [
       "array([[-0.62997503, -2.06908821,  5.14505019,  4.19474525,  2.59343559],\n",
       "       [-2.85545633,  2.6414019 , -0.57733821,  0.32143066,  0.76730818],\n",
       "       [ 2.3851643 ,  1.27070537,  4.71279161,  0.70400791, -0.36009446],\n",
       "       [-0.15396785,  2.13004936,  0.97399558, -5.38555523, -1.96210619]])"
      ]
     },
     "execution_count": 56,
     "metadata": {},
     "output_type": "execute_result"
    }
   ],
   "source": [
    "np.random.normal(1.0,3.0, size=(4,5))"
   ]
  },
  {
   "cell_type": "markdown",
   "id": "3d7e874c",
   "metadata": {},
   "source": [
    "---\n",
    "## 인덱싱"
   ]
  },
  {
   "cell_type": "code",
   "execution_count": 60,
   "id": "6d02242d",
   "metadata": {},
   "outputs": [
    {
     "data": {
      "text/plain": [
       "(0, 9, 3)"
      ]
     },
     "execution_count": 60,
     "metadata": {},
     "output_type": "execute_result"
    }
   ],
   "source": [
    "# 1차원\n",
    "x = np.arange(10)\n",
    "x[0], x[-1], x[3]"
   ]
  },
  {
   "cell_type": "code",
   "execution_count": 68,
   "id": "b7b309e1",
   "metadata": {},
   "outputs": [
    {
     "data": {
      "text/plain": [
       "(array([0.44994162, 0.89777983, 0.76733343, 0.22698015, 0.93346505]),\n",
       " 0.7673334343954081,\n",
       " 0.7673334343954081)"
      ]
     },
     "execution_count": 68,
     "metadata": {},
     "output_type": "execute_result"
    }
   ],
   "source": [
    "# 2차원 행렬\n",
    "x = np.random.rand(3,5)\n",
    "x[0], x[0][2], x[0,2]"
   ]
  },
  {
   "cell_type": "code",
   "execution_count": 67,
   "id": "ae83ddf1",
   "metadata": {},
   "outputs": [
    {
     "data": {
      "text/plain": [
       "(array([[0.95813877, 0.46899631, 0.29207164, 0.65747584],\n",
       "        [0.2543317 , 0.43629222, 0.75841915, 0.02109411],\n",
       "        [0.49139727, 0.24160086, 0.52592374, 0.11774792],\n",
       "        [0.30032559, 0.4390664 , 0.89834013, 0.68692772],\n",
       "        [0.08359782, 0.37846228, 0.02184493, 0.13135577]]),\n",
       " array([0.49139727, 0.24160086, 0.52592374, 0.11774792]),\n",
       " 0.24160085594403857,\n",
       " 0.24160085594403857)"
      ]
     },
     "execution_count": 67,
     "metadata": {},
     "output_type": "execute_result"
    }
   ],
   "source": [
    "# 3차원 텐서\n",
    "x = np.random.rand(3,5,4)\n",
    "x[0], x[0][2], x[0][2][1], x[0,2,1]"
   ]
  },
  {
   "cell_type": "markdown",
   "id": "93c9d592",
   "metadata": {},
   "source": [
    "---\n",
    "## 슬라이싱"
   ]
  },
  {
   "cell_type": "code",
   "execution_count": 74,
   "id": "5fa952c3",
   "metadata": {},
   "outputs": [
    {
     "data": {
      "text/plain": [
       "(array([[[0.5997119 , 0.28680602, 0.9901154 , 0.26623961],\n",
       "         [0.22150764, 0.01788535, 0.38731206, 0.58561483],\n",
       "         [0.22824516, 0.68455911, 0.60090171, 0.22683283],\n",
       "         [0.18081258, 0.31539124, 0.20601117, 0.05714546],\n",
       "         [0.99645226, 0.11711015, 0.5854916 , 0.29607374]],\n",
       " \n",
       "        [[0.62040231, 0.79112253, 0.24018061, 0.47650265],\n",
       "         [0.91082282, 0.86307209, 0.69608619, 0.7690367 ],\n",
       "         [0.5443267 , 0.14536227, 0.50633252, 0.05629997],\n",
       "         [0.48611071, 0.98905417, 0.12229068, 0.99888546],\n",
       "         [0.05473302, 0.60545594, 0.69168455, 0.6440244 ]]]),\n",
       " array([[0.22824516, 0.18081258, 0.99645226],\n",
       "        [0.5443267 , 0.48611071, 0.05473302]]))"
      ]
     },
     "execution_count": 74,
     "metadata": {},
     "output_type": "execute_result"
    }
   ],
   "source": [
    "# 3차원 텐서\n",
    "x = np.random.rand(3,5,4)\n",
    "x[0:2], x[0:2,2:,0]"
   ]
  },
  {
   "cell_type": "markdown",
   "id": "a6c6981d",
   "metadata": {},
   "source": [
    "---\n",
    "## 형태 바꾸기"
   ]
  },
  {
   "cell_type": "code",
   "execution_count": 80,
   "id": "20cbc226",
   "metadata": {},
   "outputs": [
    {
     "name": "stdout",
     "output_type": "stream",
     "text": [
      "[[0.52341593 0.36129557 0.98758512]\n",
      " [0.79664805 0.38669966 0.15640113]]\n",
      "[0.52341593 0.36129557 0.98758512 0.79664805 0.38669966 0.15640113]\n",
      "[0.52341593 0.36129557 0.98758512 0.79664805 0.38669966 0.15640113]\n",
      "[0.52341593 0.36129557 0.98758512 0.79664805 0.38669966 0.15640113]\n",
      "[0.52341593 0.79664805 0.36129557 0.38669966 0.98758512 0.15640113]\n"
     ]
    }
   ],
   "source": [
    "# ravel\n",
    "# 다차원을 1차원으로 변경\n",
    "# 복사하지 않고 값을 활용\n",
    "\n",
    "x = np.random.rand(2,3)\n",
    "print(x)\n",
    "print(x.ravel())\n",
    "print(np.ravel(x))\n",
    "\n",
    "print(np.ravel(x, order='C'))\n",
    "print(np.ravel(x, order='F'))"
   ]
  },
  {
   "cell_type": "code",
   "execution_count": 82,
   "id": "7d877447",
   "metadata": {},
   "outputs": [
    {
     "name": "stdout",
     "output_type": "stream",
     "text": [
      "[[0.40238334 0.47772206 0.04101788]\n",
      " [0.9411618  0.20869912 0.27567105]]\n",
      "[0.40238334 0.47772206 0.04101788 0.9411618  0.20869912 0.27567105]\n",
      "[0.40238334 0.9411618  0.47772206 0.20869912 0.04101788 0.27567105]\n"
     ]
    }
   ],
   "source": [
    "# flatten\n",
    "# 다차원을 1차원으로 변경\n",
    "# 복사본을 활용\n",
    "\n",
    "x = np.random.rand(2,3)\n",
    "print(x)\n",
    "print(x.flatten())\n",
    "print(x.flatten(order='F'))\n",
    "# print(np.flatten(x)) 이건 안됨"
   ]
  },
  {
   "cell_type": "code",
   "execution_count": 88,
   "id": "423d7424",
   "metadata": {},
   "outputs": [
    {
     "name": "stdout",
     "output_type": "stream",
     "text": [
      "(4, 5)\n",
      "2\n",
      "=== reshape ===\n",
      "(2, 10)\n",
      "2\n",
      "=== reshape ===\n",
      "(2, 5, 2)\n",
      "3\n"
     ]
    }
   ],
   "source": [
    "# reshape\n",
    "\n",
    "x = np.random.rand(4,5)\n",
    "print(x.shape)\n",
    "print(x.ndim)\n",
    "\n",
    "print(\"=== reshape ===\")\n",
    "\n",
    "x = x.reshape(2,10)\n",
    "print(x.shape)\n",
    "print(x.ndim)\n",
    "\n",
    "print(\"=== reshape ===\")\n",
    "\n",
    "x = x.reshape(2,-1,2) # 다른 값들을 알면 하나는 -1을 줘도 됨\n",
    "print(x.shape)\n",
    "print(x.ndim)"
   ]
  },
  {
   "cell_type": "code",
   "execution_count": null,
   "id": "b8f1fb7f",
   "metadata": {},
   "outputs": [],
   "source": []
  }
 ],
 "metadata": {
  "kernelspec": {
   "display_name": "Python 3 (ipykernel)",
   "language": "python",
   "name": "python3"
  },
  "language_info": {
   "codemirror_mode": {
    "name": "ipython",
    "version": 3
   },
   "file_extension": ".py",
   "mimetype": "text/x-python",
   "name": "python",
   "nbconvert_exporter": "python",
   "pygments_lexer": "ipython3",
   "version": "3.8.12"
  }
 },
 "nbformat": 4,
 "nbformat_minor": 5
}
