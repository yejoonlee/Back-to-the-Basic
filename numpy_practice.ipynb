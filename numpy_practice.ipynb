{
 "cells": [
  {
   "cell_type": "markdown",
   "id": "3f6294cb",
   "metadata": {},
   "source": [
    "## Numpy를 사용하는 이유\n",
    "\n",
    "- 성능: 파이썬 리스트보다 빠름\n",
    "- 메모리 사이즈: 파이썬 리스트보다 적은 메모리 사용\n",
    "- 빌트인 함수: 선형대수, 통계관련 여러 함수 내장\n",
    "\n",
    "Numpy는 도큐먼트가 굉장히 잘 되어있는 편이라서 들어가서 찾아보면 좋다.\n",
    "https://numpy.org/learn/"
   ]
  },
  {
   "cell_type": "markdown",
   "id": "b249b0e3",
   "metadata": {},
   "source": [
    "---\n",
    "## ndarray\n",
    "\n",
    "연속된 메모리 Vectorization 사용"
   ]
  },
  {
   "cell_type": "code",
   "execution_count": 88,
   "id": "d3d4063a",
   "metadata": {},
   "outputs": [],
   "source": [
    "import numpy as np\n",
    "import matplotlib.pyplot as plt\n",
    "%matplotlib inline"
   ]
  },
  {
   "cell_type": "markdown",
   "id": "36c7c7bf",
   "metadata": {},
   "source": [
    "### ndarray 생성 방법"
   ]
  },
  {
   "cell_type": "code",
   "execution_count": 11,
   "id": "45647c72",
   "metadata": {},
   "outputs": [
    {
     "name": "stdout",
     "output_type": "stream",
     "text": [
      "=== np.array ===\n",
      "list를 ndarray로:\n",
      " [1 2 3]\n"
     ]
    }
   ],
   "source": [
    "print(\"=== np.array ===\")\n",
    "print(\"list를 ndarray로:\\n\",\n",
    "      np.array([1,2,3]))"
   ]
  },
  {
   "cell_type": "code",
   "execution_count": 12,
   "id": "51fbc7b2",
   "metadata": {},
   "outputs": [
    {
     "name": "stdout",
     "output_type": "stream",
     "text": [
      "\n",
      "=== np.arange ===\n",
      "길이 지정:\n",
      " [0 1 2 3 4 5 6 7 8 9]\n",
      "시작과 끝 지정:\n",
      " [1 2 3 4 5 6 7 8 9]\n",
      "시작과 끝, 간격 지정:\n",
      " [1 3 5 7 9]\n"
     ]
    }
   ],
   "source": [
    "print(\"\\n=== np.arange ===\")\n",
    "print(\"길이 지정:\\n\",\n",
    "      np.arange(10))\n",
    "print(\"시작과 끝 지정:\\n\",\n",
    "      np.arange(1,10))\n",
    "print(\"시작과 끝, 간격 지정:\\n\",\n",
    "      np.arange(1,10,2))"
   ]
  },
  {
   "cell_type": "code",
   "execution_count": 13,
   "id": "f7a75d41",
   "metadata": {},
   "outputs": [
    {
     "name": "stdout",
     "output_type": "stream",
     "text": [
      "\n",
      "=== np.ones, np.zeros ===\n",
      "행렬의 형태 지정:\n",
      " [[1. 1. 1. 1.]\n",
      " [1. 1. 1. 1.]\n",
      " [1. 1. 1. 1.]]\n",
      "행렬의 형태 지정:\n",
      " [[[0. 0.]\n",
      "  [0. 0.]\n",
      "  [0. 0.]\n",
      "  [0. 0.]]\n",
      "\n",
      " [[0. 0.]\n",
      "  [0. 0.]\n",
      "  [0. 0.]\n",
      "  [0. 0.]]\n",
      "\n",
      " [[0. 0.]\n",
      "  [0. 0.]\n",
      "  [0. 0.]\n",
      "  [0. 0.]]]\n"
     ]
    }
   ],
   "source": [
    "print(\"\\n=== np.ones, np.zeros ===\")\n",
    "print(\"행렬의 형태를 튜플로 지정:\\n\",\n",
    "      np.ones((3,4)))\n",
    "print(\"행렬의 형태를 튜플로 지정:\\n\",\n",
    "      np.zeros((3,4,2)))"
   ]
  },
  {
   "cell_type": "code",
   "execution_count": 16,
   "id": "8b052c92",
   "metadata": {},
   "outputs": [
    {
     "name": "stdout",
     "output_type": "stream",
     "text": [
      "\n",
      "=== np.empty, np.full ===\n",
      "행렬의 형태를 튜플로 지정(초기화가 되지 않음):\n",
      " [[3.5e-323 3.5e-323 3.5e-323 3.5e-323]\n",
      " [3.5e-323 3.5e-323 3.5e-323 3.5e-323]\n",
      " [3.5e-323 3.5e-323 3.5e-323 3.5e-323]]\n",
      "행렬의 형태를 튜플로 지정하고 값도 넘겨줌:\n",
      " [[7 7 7 7]\n",
      " [7 7 7 7]\n",
      " [7 7 7 7]]\n"
     ]
    }
   ],
   "source": [
    "print(\"\\n=== np.empty, np.full ===\")\n",
    "print(\"행렬의 형태를 튜플로 지정(초기화가 되지 않음):\\n\",\n",
    "      np.empty((3,4)))\n",
    "print(\"행렬의 형태를 튜플로 지정하고 값도 넘겨줌:\\n\",\n",
    "      np.full((3,4),7))"
   ]
  },
  {
   "cell_type": "code",
   "execution_count": 17,
   "id": "469838b9",
   "metadata": {},
   "outputs": [
    {
     "name": "stdout",
     "output_type": "stream",
     "text": [
      "\n",
      "=== np.eye ===\n",
      "단위행렬 크기 지정:\n",
      " [[1. 0. 0.]\n",
      " [0. 1. 0.]\n",
      " [0. 0. 1.]]\n"
     ]
    }
   ],
   "source": [
    "print(\"\\n=== np.eye ===\")\n",
    "print(\"단위행렬 크기 지정:\\n\",\n",
    "      np.eye(3))"
   ]
  },
  {
   "cell_type": "code",
   "execution_count": 18,
   "id": "10975233",
   "metadata": {},
   "outputs": [
    {
     "name": "stdout",
     "output_type": "stream",
     "text": [
      "\n",
      "=== np.linspace ===\n",
      "시작, 끝, 수 지정:\n",
      " [ 1.    3.25  5.5   7.75 10.  ]\n"
     ]
    }
   ],
   "source": [
    "print(\"\\n=== np.linspace ===\")\n",
    "print(\"시작, 끝, 수 지정:\\n\",\n",
    "      np.linspace(1,10,5))"
   ]
  },
  {
   "cell_type": "markdown",
   "id": "47ab03aa",
   "metadata": {},
   "source": [
    "### reshpe"
   ]
  },
  {
   "cell_type": "code",
   "execution_count": 21,
   "id": "a61833e0",
   "metadata": {},
   "outputs": [
    {
     "name": "stdout",
     "output_type": "stream",
     "text": [
      "[ 1  2  3  4  5  6  7  8  9 10 11 12 13 14 15]\n",
      "[[ 1  2  3  4  5]\n",
      " [ 6  7  8  9 10]\n",
      " [11 12 13 14 15]]\n"
     ]
    }
   ],
   "source": [
    "x = np.arange(1,16)\n",
    "print(x)\n",
    "\n",
    "print(x.reshape(3,5))"
   ]
  },
  {
   "cell_type": "markdown",
   "id": "dba088c9",
   "metadata": {},
   "source": [
    "### random"
   ]
  },
  {
   "cell_type": "code",
   "execution_count": 23,
   "id": "c01b20a9",
   "metadata": {},
   "outputs": [
    {
     "data": {
      "text/plain": [
       "array([[0.50312721, 0.27978402, 0.31484109],\n",
       "       [0.26736883, 0.15193282, 0.56963652]])"
      ]
     },
     "execution_count": 23,
     "metadata": {},
     "output_type": "execute_result"
    }
   ],
   "source": [
    "# rand\n",
    "# 0과 1 사이의 분포로 랜덤한 ndarray생성\n",
    "np.random.rand(2,3)"
   ]
  },
  {
   "cell_type": "code",
   "execution_count": 24,
   "id": "e006b469",
   "metadata": {},
   "outputs": [
    {
     "data": {
      "text/plain": [
       "array([[ 1.00800868,  0.82693389,  1.05641879],\n",
       "       [ 1.25218608,  0.15248729, -0.84137654]])"
      ]
     },
     "execution_count": 24,
     "metadata": {},
     "output_type": "execute_result"
    }
   ],
   "source": [
    "# randn\n",
    "# 정규분포로 랜덤한 ndarray생성\n",
    "np.random.randn(2,3)"
   ]
  },
  {
   "cell_type": "code",
   "execution_count": 26,
   "id": "24035df1",
   "metadata": {},
   "outputs": [
    {
     "data": {
      "text/plain": [
       "array([[83, 83, 27, 62, 19],\n",
       "       [25, 82, 49, 86, 30],\n",
       "       [28, 67, 90,  2, 21]])"
      ]
     },
     "execution_count": 26,
     "metadata": {},
     "output_type": "execute_result"
    }
   ],
   "source": [
    "# randint\n",
    "# 특정 정수 사이에서 랜덤한 ndarray생성\n",
    "np.random.randint(1,100, size=(3,5))"
   ]
  },
  {
   "cell_type": "markdown",
   "id": "58443bdf",
   "metadata": {},
   "source": [
    "### seed"
   ]
  },
  {
   "cell_type": "code",
   "execution_count": 47,
   "id": "6bf4fd1a",
   "metadata": {},
   "outputs": [
    {
     "name": "stdout",
     "output_type": "stream",
     "text": [
      "[[ 0.66698806  0.02581308 -0.77761941  0.94863382]\n",
      " [ 0.70167179 -1.05108156 -0.36754812 -1.13745969]\n",
      " [-1.32214752  1.77225828 -0.34745899  0.67014016]]\n",
      "[[ 0.32227152  0.06034293 -1.04345    -1.00994188]\n",
      " [ 0.44173637  1.12887685 -1.83806777 -0.93876863]\n",
      " [-0.20184052  1.04537128  0.53816197  0.81211867]]\n",
      "[[ 0.2411063  -0.95250953 -0.13626676  1.26724821]\n",
      " [ 0.17363364 -1.22325477  1.41531998  0.45771098]\n",
      " [ 0.72887584  1.96843473 -0.54778801 -0.67941827]]\n"
     ]
    }
   ],
   "source": [
    "# 랜덤한 값을 동일하게 다시 생성하고자 할 때 사용\n",
    "# seed를 지정한 뒤 random을 호출하는 횟수에따른 값이 항상 같다.\n",
    "# 첫번째 호출한 값이 다시 seed를 지정하고 첫번째 호출한 값과 같다.\n",
    "np.random.seed(23)\n",
    "print(np.random.randn(3,4))\n",
    "print(np.random.randn(3,4))\n",
    "print(np.random.randn(3,4))"
   ]
  },
  {
   "cell_type": "markdown",
   "id": "b29db0b9",
   "metadata": {},
   "source": [
    "### choice\n",
    "  \n",
    "주어진 1차원 ndarray로 부터 랜덤으로 샘플링  \n",
    "정수가 주어진 경우, np.arange(해당숫자)로 간주"
   ]
  },
  {
   "cell_type": "code",
   "execution_count": 50,
   "id": "1b1bbbc4",
   "metadata": {},
   "outputs": [
    {
     "data": {
      "text/plain": [
       "array([[26, 37, 41, 56],\n",
       "       [39, 81, 32, 53],\n",
       "       [35, 23, 29, 42]])"
      ]
     },
     "execution_count": 50,
     "metadata": {},
     "output_type": "execute_result"
    }
   ],
   "source": [
    "np.random.choice(100, size=(3,4))"
   ]
  },
  {
   "cell_type": "code",
   "execution_count": 53,
   "id": "137854ea",
   "metadata": {},
   "outputs": [
    {
     "name": "stdout",
     "output_type": "stream",
     "text": [
      "[[14 12 92 46 94]\n",
      " [73 37 19 59 75]\n",
      " [30 49 50 13 33]\n",
      " [26 47 77 69 55]\n",
      " [18 74 27 80 40]]\n",
      "[[54 77 18 98 56]\n",
      " [ 3 35 21 76 57]\n",
      " [86 81  0 68 84]\n",
      " [21 52 72 93 21]\n",
      " [96 60 67 99 60]]\n"
     ]
    }
   ],
   "source": [
    "x = np.arange(100)\n",
    "print(np.random.choice(x, size=(5,5), replace=False))\n",
    "print(np.random.choice(x, size=(5,5), replace=True)) # 중복 허용"
   ]
  },
  {
   "cell_type": "markdown",
   "id": "f8e30fca",
   "metadata": {},
   "source": [
    "### 확률분포에 따른 ndarray 생성"
   ]
  },
  {
   "cell_type": "code",
   "execution_count": 55,
   "id": "09868faf",
   "metadata": {},
   "outputs": [
    {
     "data": {
      "text/plain": [
       "array([[2.34075612, 2.53384477, 1.99015233, 1.59431279, 1.74101396],\n",
       "       [2.02903154, 2.81253543, 2.57165079, 2.52918349, 2.64235248],\n",
       "       [2.43677013, 2.4225355 , 1.81897025, 2.38485115, 1.88328477],\n",
       "       [2.03332074, 1.9407021 , 1.20625581, 1.58196777, 2.88336093]])"
      ]
     },
     "execution_count": 55,
     "metadata": {},
     "output_type": "execute_result"
    }
   ],
   "source": [
    "np.random.uniform(1.0,3.0, size=(4,5))"
   ]
  },
  {
   "cell_type": "code",
   "execution_count": 56,
   "id": "7db70897",
   "metadata": {},
   "outputs": [
    {
     "data": {
      "text/plain": [
       "array([[-0.62997503, -2.06908821,  5.14505019,  4.19474525,  2.59343559],\n",
       "       [-2.85545633,  2.6414019 , -0.57733821,  0.32143066,  0.76730818],\n",
       "       [ 2.3851643 ,  1.27070537,  4.71279161,  0.70400791, -0.36009446],\n",
       "       [-0.15396785,  2.13004936,  0.97399558, -5.38555523, -1.96210619]])"
      ]
     },
     "execution_count": 56,
     "metadata": {},
     "output_type": "execute_result"
    }
   ],
   "source": [
    "np.random.normal(1.0,3.0, size=(4,5))"
   ]
  },
  {
   "cell_type": "markdown",
   "id": "3d7e874c",
   "metadata": {},
   "source": [
    "---\n",
    "## 인덱싱"
   ]
  },
  {
   "cell_type": "code",
   "execution_count": 60,
   "id": "6d02242d",
   "metadata": {},
   "outputs": [
    {
     "data": {
      "text/plain": [
       "(0, 9, 3)"
      ]
     },
     "execution_count": 60,
     "metadata": {},
     "output_type": "execute_result"
    }
   ],
   "source": [
    "# 1차원\n",
    "x = np.arange(10)\n",
    "x[0], x[-1], x[3]"
   ]
  },
  {
   "cell_type": "code",
   "execution_count": 68,
   "id": "b7b309e1",
   "metadata": {},
   "outputs": [
    {
     "data": {
      "text/plain": [
       "(array([0.44994162, 0.89777983, 0.76733343, 0.22698015, 0.93346505]),\n",
       " 0.7673334343954081,\n",
       " 0.7673334343954081)"
      ]
     },
     "execution_count": 68,
     "metadata": {},
     "output_type": "execute_result"
    }
   ],
   "source": [
    "# 2차원 행렬\n",
    "x = np.random.rand(3,5)\n",
    "x[0], x[0][2], x[0,2]"
   ]
  },
  {
   "cell_type": "code",
   "execution_count": 67,
   "id": "ae83ddf1",
   "metadata": {},
   "outputs": [
    {
     "data": {
      "text/plain": [
       "(array([[0.95813877, 0.46899631, 0.29207164, 0.65747584],\n",
       "        [0.2543317 , 0.43629222, 0.75841915, 0.02109411],\n",
       "        [0.49139727, 0.24160086, 0.52592374, 0.11774792],\n",
       "        [0.30032559, 0.4390664 , 0.89834013, 0.68692772],\n",
       "        [0.08359782, 0.37846228, 0.02184493, 0.13135577]]),\n",
       " array([0.49139727, 0.24160086, 0.52592374, 0.11774792]),\n",
       " 0.24160085594403857,\n",
       " 0.24160085594403857)"
      ]
     },
     "execution_count": 67,
     "metadata": {},
     "output_type": "execute_result"
    }
   ],
   "source": [
    "# 3차원 텐서\n",
    "x = np.random.rand(3,5,4)\n",
    "x[0], x[0][2], x[0][2][1], x[0,2,1]"
   ]
  },
  {
   "cell_type": "markdown",
   "id": "93c9d592",
   "metadata": {},
   "source": [
    "---\n",
    "## 슬라이싱"
   ]
  },
  {
   "cell_type": "code",
   "execution_count": 74,
   "id": "5fa952c3",
   "metadata": {},
   "outputs": [
    {
     "data": {
      "text/plain": [
       "(array([[[0.5997119 , 0.28680602, 0.9901154 , 0.26623961],\n",
       "         [0.22150764, 0.01788535, 0.38731206, 0.58561483],\n",
       "         [0.22824516, 0.68455911, 0.60090171, 0.22683283],\n",
       "         [0.18081258, 0.31539124, 0.20601117, 0.05714546],\n",
       "         [0.99645226, 0.11711015, 0.5854916 , 0.29607374]],\n",
       " \n",
       "        [[0.62040231, 0.79112253, 0.24018061, 0.47650265],\n",
       "         [0.91082282, 0.86307209, 0.69608619, 0.7690367 ],\n",
       "         [0.5443267 , 0.14536227, 0.50633252, 0.05629997],\n",
       "         [0.48611071, 0.98905417, 0.12229068, 0.99888546],\n",
       "         [0.05473302, 0.60545594, 0.69168455, 0.6440244 ]]]),\n",
       " array([[0.22824516, 0.18081258, 0.99645226],\n",
       "        [0.5443267 , 0.48611071, 0.05473302]]))"
      ]
     },
     "execution_count": 74,
     "metadata": {},
     "output_type": "execute_result"
    }
   ],
   "source": [
    "# 3차원 텐서\n",
    "x = np.random.rand(3,5,4)\n",
    "x[0:2], x[0:2,2:,0]"
   ]
  },
  {
   "cell_type": "markdown",
   "id": "a6c6981d",
   "metadata": {},
   "source": [
    "---\n",
    "## 형태 바꾸기"
   ]
  },
  {
   "cell_type": "code",
   "execution_count": 80,
   "id": "20cbc226",
   "metadata": {},
   "outputs": [
    {
     "name": "stdout",
     "output_type": "stream",
     "text": [
      "[[0.52341593 0.36129557 0.98758512]\n",
      " [0.79664805 0.38669966 0.15640113]]\n",
      "[0.52341593 0.36129557 0.98758512 0.79664805 0.38669966 0.15640113]\n",
      "[0.52341593 0.36129557 0.98758512 0.79664805 0.38669966 0.15640113]\n",
      "[0.52341593 0.36129557 0.98758512 0.79664805 0.38669966 0.15640113]\n",
      "[0.52341593 0.79664805 0.36129557 0.38669966 0.98758512 0.15640113]\n"
     ]
    }
   ],
   "source": [
    "# ravel\n",
    "# 다차원을 1차원으로 변경\n",
    "# 복사하지 않고 값을 활용\n",
    "\n",
    "x = np.random.rand(2,3)\n",
    "print(x)\n",
    "print(x.ravel())\n",
    "print(np.ravel(x))\n",
    "\n",
    "print(np.ravel(x, order='C'))\n",
    "print(np.ravel(x, order='F'))"
   ]
  },
  {
   "cell_type": "code",
   "execution_count": 82,
   "id": "7d877447",
   "metadata": {},
   "outputs": [
    {
     "name": "stdout",
     "output_type": "stream",
     "text": [
      "[[0.40238334 0.47772206 0.04101788]\n",
      " [0.9411618  0.20869912 0.27567105]]\n",
      "[0.40238334 0.47772206 0.04101788 0.9411618  0.20869912 0.27567105]\n",
      "[0.40238334 0.9411618  0.47772206 0.20869912 0.04101788 0.27567105]\n"
     ]
    }
   ],
   "source": [
    "# flatten\n",
    "# 다차원을 1차원으로 변경\n",
    "# 복사본을 활용\n",
    "\n",
    "x = np.random.rand(2,3)\n",
    "print(x)\n",
    "print(x.flatten())\n",
    "print(x.flatten(order='F'))\n",
    "# print(np.flatten(x)) 이건 안됨"
   ]
  },
  {
   "cell_type": "code",
   "execution_count": 88,
   "id": "423d7424",
   "metadata": {},
   "outputs": [
    {
     "name": "stdout",
     "output_type": "stream",
     "text": [
      "(4, 5)\n",
      "2\n",
      "=== reshape ===\n",
      "(2, 10)\n",
      "2\n",
      "=== reshape ===\n",
      "(2, 5, 2)\n",
      "3\n"
     ]
    }
   ],
   "source": [
    "# reshape\n",
    "\n",
    "x = np.random.rand(4,5)\n",
    "print(x.shape)\n",
    "print(x.ndim)\n",
    "\n",
    "print(\"=== reshape ===\")\n",
    "\n",
    "x = x.reshape(2,10)\n",
    "print(x.shape)\n",
    "print(x.ndim)\n",
    "\n",
    "print(\"=== reshape ===\")\n",
    "\n",
    "x = x.reshape(2,-1,2) # 다른 값들을 알면 하나는 -1을 줘도 됨\n",
    "print(x.shape)\n",
    "print(x.ndim)"
   ]
  },
  {
   "cell_type": "markdown",
   "id": "56724b44",
   "metadata": {},
   "source": [
    "---\n",
    "### 연산 함수\n",
    "\n",
    "shape이 같아야 한다."
   ]
  },
  {
   "cell_type": "code",
   "execution_count": 2,
   "id": "c25e5fdc",
   "metadata": {},
   "outputs": [
    {
     "name": "stdout",
     "output_type": "stream",
     "text": [
      "[[ 0  1  2  3  4]\n",
      " [ 5  6  7  8  9]\n",
      " [10 11 12 13 14]] [[0.91072495 0.49268783 0.06972648 0.22148956 0.27890289]\n",
      " [0.44810995 0.75415552 0.59066284 0.1450224  0.12894834]\n",
      " [0.41189068 0.2047207  0.82723116 0.59269955 0.49531036]]\n"
     ]
    }
   ],
   "source": [
    "x = np.arange(15).reshape(3,5)\n",
    "y = np.random.rand(15).reshape(3,5)\n",
    "\n",
    "print(x,y)"
   ]
  },
  {
   "cell_type": "code",
   "execution_count": 4,
   "id": "145a5ea5",
   "metadata": {},
   "outputs": [
    {
     "name": "stdout",
     "output_type": "stream",
     "text": [
      "[[ 0.91072495  1.49268783  2.06972648  3.22148956  4.27890289]\n",
      " [ 5.44810995  6.75415552  7.59066284  8.1450224   9.12894834]\n",
      " [10.41189068 11.2047207  12.82723116 13.59269955 14.49531036]]\n",
      "[[ 0.91072495  1.49268783  2.06972648  3.22148956  4.27890289]\n",
      " [ 5.44810995  6.75415552  7.59066284  8.1450224   9.12894834]\n",
      " [10.41189068 11.2047207  12.82723116 13.59269955 14.49531036]]\n"
     ]
    }
   ],
   "source": [
    "# add\n",
    "# elementwise\n",
    "\n",
    "print(np.add(x,y))\n",
    "\n",
    "print(x + y)"
   ]
  },
  {
   "cell_type": "markdown",
   "id": "6df003c6",
   "metadata": {},
   "source": [
    "---\n",
    "### 통계 함수"
   ]
  },
  {
   "cell_type": "code",
   "execution_count": 8,
   "id": "f73435a8",
   "metadata": {},
   "outputs": [
    {
     "data": {
      "text/plain": [
       "(0.43815221430300666, 0.43815221430300666)"
      ]
     },
     "execution_count": 8,
     "metadata": {},
     "output_type": "execute_result"
    }
   ],
   "source": [
    "np.mean(y), y.mean()"
   ]
  },
  {
   "cell_type": "code",
   "execution_count": 9,
   "id": "6cbba484",
   "metadata": {},
   "outputs": [
    {
     "data": {
      "text/plain": [
       "(0.9107249542156642, 0)"
      ]
     },
     "execution_count": 9,
     "metadata": {},
     "output_type": "execute_result"
    }
   ],
   "source": [
    "np.max(y), np.argmax(y)"
   ]
  },
  {
   "cell_type": "code",
   "execution_count": 10,
   "id": "f5c9014b",
   "metadata": {},
   "outputs": [
    {
     "data": {
      "text/plain": [
       "(0.06485352411482324, 0.4481099481868721, 0.2546635508171973)"
      ]
     },
     "execution_count": 10,
     "metadata": {},
     "output_type": "execute_result"
    }
   ],
   "source": [
    "np.var(y), np.median(y), np.std(y)"
   ]
  },
  {
   "cell_type": "markdown",
   "id": "02d8bbed",
   "metadata": {},
   "source": [
    "---\n",
    "### 집계 함수"
   ]
  },
  {
   "cell_type": "code",
   "execution_count": 14,
   "id": "42af2df2",
   "metadata": {},
   "outputs": [
    {
     "data": {
      "text/plain": [
       "(6.5722832145451,\n",
       " array([1.97353172, 2.06689905, 2.53185244]),\n",
       " array([0.91072495, 1.40341279, 1.47313927, 1.69462883, 1.97353172,\n",
       "        2.42164167, 3.1757972 , 3.76646004, 3.91148244, 4.04043077,\n",
       "        4.45232145, 4.65704215, 5.48427331, 6.07697286, 6.57228321]))"
      ]
     },
     "execution_count": 14,
     "metadata": {},
     "output_type": "execute_result"
    }
   ],
   "source": [
    "np.sum(y), np.sum(y, axis=1), np.cumsum(y)"
   ]
  },
  {
   "cell_type": "markdown",
   "id": "119ac674",
   "metadata": {},
   "source": [
    "---\n",
    "### any, all"
   ]
  },
  {
   "cell_type": "code",
   "execution_count": 19,
   "id": "df7455be",
   "metadata": {},
   "outputs": [],
   "source": [
    "z = np.random.randn(3,4)"
   ]
  },
  {
   "cell_type": "code",
   "execution_count": 20,
   "id": "37cbfe44",
   "metadata": {},
   "outputs": [
    {
     "data": {
      "text/plain": [
       "array([[ True, False,  True, False],\n",
       "       [False, False,  True, False],\n",
       "       [ True, False,  True, False]])"
      ]
     },
     "execution_count": 20,
     "metadata": {},
     "output_type": "execute_result"
    }
   ],
   "source": [
    "z > 0"
   ]
  },
  {
   "cell_type": "code",
   "execution_count": 21,
   "id": "edecb3a7",
   "metadata": {},
   "outputs": [
    {
     "data": {
      "text/plain": [
       "(True, False)"
      ]
     },
     "execution_count": 21,
     "metadata": {},
     "output_type": "execute_result"
    }
   ],
   "source": [
    "np.any(z > 0), np.all(z > 0)"
   ]
  },
  {
   "cell_type": "markdown",
   "id": "0d1ea06a",
   "metadata": {},
   "source": [
    "---\n",
    "### where\n",
    "\n",
    "- 조건에 따라 선별적으로 값을 선택 가능"
   ]
  },
  {
   "cell_type": "code",
   "execution_count": 24,
   "id": "d7631afa",
   "metadata": {},
   "outputs": [
    {
     "data": {
      "text/plain": [
       "array([-0.30593217,  1.04793159,  0.07551306, -0.77760127,  0.75896772,\n",
       "       -0.44072476, -1.92015556, -0.50040911,  0.57457997,  0.57796391])"
      ]
     },
     "execution_count": 24,
     "metadata": {},
     "output_type": "execute_result"
    }
   ],
   "source": [
    "z = np.random.randn(10)\n",
    "z"
   ]
  },
  {
   "cell_type": "code",
   "execution_count": 25,
   "id": "43af1b47",
   "metadata": {},
   "outputs": [
    {
     "data": {
      "text/plain": [
       "array([0.        , 1.04793159, 0.07551306, 0.        , 0.75896772,\n",
       "       0.        , 0.        , 0.        , 0.57457997, 0.57796391])"
      ]
     },
     "execution_count": 25,
     "metadata": {},
     "output_type": "execute_result"
    }
   ],
   "source": [
    "np.where(z > 0, z, 0)"
   ]
  },
  {
   "cell_type": "markdown",
   "id": "decfbe55",
   "metadata": {},
   "source": [
    "---\n",
    "---\n",
    "\n",
    "## axis"
   ]
  },
  {
   "cell_type": "code",
   "execution_count": 29,
   "id": "11e2a690",
   "metadata": {},
   "outputs": [
    {
     "data": {
      "text/plain": [
       "array([[ 0,  1,  2,  3,  4],\n",
       "       [ 5,  6,  7,  8,  9],\n",
       "       [10, 11, 12, 13, 14]])"
      ]
     },
     "execution_count": 29,
     "metadata": {},
     "output_type": "execute_result"
    }
   ],
   "source": [
    "x = np.arange(15).reshape(3,5)\n",
    "x"
   ]
  },
  {
   "cell_type": "code",
   "execution_count": 31,
   "id": "908d1539",
   "metadata": {},
   "outputs": [
    {
     "data": {
      "text/plain": [
       "(array([15, 18, 21, 24, 27]), array([10, 35, 60]))"
      ]
     },
     "execution_count": 31,
     "metadata": {},
     "output_type": "execute_result"
    }
   ],
   "source": [
    "np.sum(x, axis=0), np.sum(x, axis=1)"
   ]
  },
  {
   "cell_type": "code",
   "execution_count": 32,
   "id": "3b1c44c1",
   "metadata": {},
   "outputs": [
    {
     "data": {
      "text/plain": [
       "array([[[ 0,  1,  2],\n",
       "        [ 3,  4,  5],\n",
       "        [ 6,  7,  8],\n",
       "        [ 9, 10, 11]],\n",
       "\n",
       "       [[12, 13, 14],\n",
       "        [15, 16, 17],\n",
       "        [18, 19, 20],\n",
       "        [21, 22, 23]],\n",
       "\n",
       "       [[24, 25, 26],\n",
       "        [27, 28, 29],\n",
       "        [30, 31, 32],\n",
       "        [33, 34, 35]]])"
      ]
     },
     "execution_count": 32,
     "metadata": {},
     "output_type": "execute_result"
    }
   ],
   "source": [
    "z = np.arange(36).reshape(3,4,-1)\n",
    "z"
   ]
  },
  {
   "cell_type": "code",
   "execution_count": 35,
   "id": "a3aec9b1",
   "metadata": {},
   "outputs": [
    {
     "data": {
      "text/plain": [
       "(array([[36, 39, 42],\n",
       "        [45, 48, 51],\n",
       "        [54, 57, 60],\n",
       "        [63, 66, 69]]),\n",
       " array([[ 18,  22,  26],\n",
       "        [ 66,  70,  74],\n",
       "        [114, 118, 122]]),\n",
       " array([[  3,  12,  21,  30],\n",
       "        [ 39,  48,  57,  66],\n",
       "        [ 75,  84,  93, 102]]),\n",
       " array([[  3,  12,  21,  30],\n",
       "        [ 39,  48,  57,  66],\n",
       "        [ 75,  84,  93, 102]]))"
      ]
     },
     "execution_count": 35,
     "metadata": {},
     "output_type": "execute_result"
    }
   ],
   "source": [
    "np.sum(z, axis=0), np.sum(z, axis=1), \\\n",
    "np.sum(z, axis=2), np.sum(z, axis=-1)"
   ]
  },
  {
   "cell_type": "code",
   "execution_count": 36,
   "id": "18cf665b",
   "metadata": {},
   "outputs": [
    {
     "data": {
      "text/plain": [
       "array([198, 210, 222])"
      ]
     },
     "execution_count": 36,
     "metadata": {},
     "output_type": "execute_result"
    }
   ],
   "source": [
    "np.sum(z, axis=(0,1))"
   ]
  },
  {
   "cell_type": "markdown",
   "id": "53d16662",
   "metadata": {},
   "source": [
    "---\n",
    "### Boolean indexing"
   ]
  },
  {
   "cell_type": "code",
   "execution_count": 47,
   "id": "552d604f",
   "metadata": {},
   "outputs": [
    {
     "data": {
      "text/plain": [
       "array([50, 31, 11, 69, 61, 96, 15, 85, 40, 52])"
      ]
     },
     "execution_count": 47,
     "metadata": {},
     "output_type": "execute_result"
    }
   ],
   "source": [
    "x = np.random.randint(1,100,size=10)\n",
    "x"
   ]
  },
  {
   "cell_type": "code",
   "execution_count": 48,
   "id": "ed712b58",
   "metadata": {},
   "outputs": [
    {
     "data": {
      "text/plain": [
       "(array([50, 31, 11, 69, 61, 96, 15, 85, 40, 52]),\n",
       " array([ True, False, False, False, False,  True, False, False,  True,\n",
       "         True]),\n",
       " array([50, 96, 40, 52]))"
      ]
     },
     "execution_count": 48,
     "metadata": {},
     "output_type": "execute_result"
    }
   ],
   "source": [
    "even_mask = x % 2 == 0\n",
    "x, even_mask, x[even_mask]"
   ]
  },
  {
   "cell_type": "code",
   "execution_count": 49,
   "id": "4d443dd9",
   "metadata": {},
   "outputs": [
    {
     "data": {
      "text/plain": [
       "array([50, 31, 69, 61, 96, 85, 40, 52])"
      ]
     },
     "execution_count": 49,
     "metadata": {},
     "output_type": "execute_result"
    }
   ],
   "source": [
    "x[ x>30 ]"
   ]
  },
  {
   "cell_type": "markdown",
   "id": "200f707b",
   "metadata": {},
   "source": [
    "### 다중조건 사용하기\n",
    "- &: and\n",
    "- |: or"
   ]
  },
  {
   "cell_type": "code",
   "execution_count": 52,
   "id": "cde3322a",
   "metadata": {},
   "outputs": [],
   "source": [
    "x = np.arange(1,40)"
   ]
  },
  {
   "cell_type": "code",
   "execution_count": 53,
   "id": "17c4128b",
   "metadata": {},
   "outputs": [
    {
     "data": {
      "text/plain": [
       "array([ 2,  4,  6,  8, 10, 12, 14, 16, 18, 20, 22, 24, 26, 28])"
      ]
     },
     "execution_count": 53,
     "metadata": {},
     "output_type": "execute_result"
    }
   ],
   "source": [
    "x[ (x % 2 == 0) & (x < 30) ]"
   ]
  },
  {
   "cell_type": "code",
   "execution_count": 55,
   "id": "e57947e3",
   "metadata": {
    "scrolled": true
   },
   "outputs": [
    {
     "data": {
      "text/plain": [
       "array([ 1,  2,  3,  4,  5,  6,  7,  8,  9, 10, 11, 12, 13, 14, 15, 16, 17,\n",
       "       18, 19, 20, 21, 22, 23, 24, 25, 26, 27, 28, 29])"
      ]
     },
     "execution_count": 55,
     "metadata": {},
     "output_type": "execute_result"
    }
   ],
   "source": [
    "x[ (x < 30) | (x > 50) ]"
   ]
  },
  {
   "cell_type": "markdown",
   "id": "c7f74f65",
   "metadata": {},
   "source": [
    "---\n",
    "## 브로드캐스팅\n",
    "\n",
    "- shape이 다른 ndarray의 연산에서 shape을 맞춰줌\n",
    "- 뒷 차원부터 비교해서 shape이 같거나, 차원 중 값이 1인 것이 존재하면 가능"
   ]
  },
  {
   "cell_type": "code",
   "execution_count": 58,
   "id": "e7c7e044",
   "metadata": {},
   "outputs": [
    {
     "data": {
      "text/plain": [
       "array([[0, 1, 2, 3, 4],\n",
       "       [5, 6, 7, 8, 9]])"
      ]
     },
     "execution_count": 58,
     "metadata": {},
     "output_type": "execute_result"
    }
   ],
   "source": [
    "x = np.arange(10).reshape(2,5)\n",
    "x"
   ]
  },
  {
   "cell_type": "code",
   "execution_count": 59,
   "id": "4d3f86f6",
   "metadata": {},
   "outputs": [
    {
     "data": {
      "text/plain": [
       "array([[ 2,  3,  4,  5,  6],\n",
       "       [ 7,  8,  9, 10, 11]])"
      ]
     },
     "execution_count": 59,
     "metadata": {},
     "output_type": "execute_result"
    }
   ],
   "source": [
    "# 상수와의 연산\n",
    "x + 2"
   ]
  },
  {
   "cell_type": "code",
   "execution_count": 62,
   "id": "8f9e8eee",
   "metadata": {},
   "outputs": [
    {
     "data": {
      "text/plain": [
       "((4, 3),\n",
       " (3,),\n",
       " array([[100, 102, 104],\n",
       "        [103, 105, 107],\n",
       "        [106, 108, 110],\n",
       "        [109, 111, 113]]))"
      ]
     },
     "execution_count": 62,
     "metadata": {},
     "output_type": "execute_result"
    }
   ],
   "source": [
    "# shape이 다른 경우 연산\n",
    "a = np.arange(12).reshape(4,3)\n",
    "b = np.arange(100,103)\n",
    "\n",
    "a.shape, b.shape, a + b"
   ]
  },
  {
   "cell_type": "code",
   "execution_count": 77,
   "id": "09717ab7",
   "metadata": {},
   "outputs": [
    {
     "data": {
      "text/plain": [
       "((2, 2, 3), (2, 3))"
      ]
     },
     "execution_count": 77,
     "metadata": {},
     "output_type": "execute_result"
    }
   ],
   "source": [
    "# shape이 다른 경우 연산\n",
    "a = np.arange(12).reshape(2,2,3)\n",
    "b = np.arange(6).reshape(2,3)\n",
    "\n",
    "a.shape, b.shape"
   ]
  },
  {
   "cell_type": "code",
   "execution_count": 78,
   "id": "3b06a467",
   "metadata": {},
   "outputs": [
    {
     "data": {
      "text/plain": [
       "array([[[ 0,  2,  4],\n",
       "        [ 6,  8, 10]],\n",
       "\n",
       "       [[ 6,  8, 10],\n",
       "        [12, 14, 16]]])"
      ]
     },
     "execution_count": 78,
     "metadata": {},
     "output_type": "execute_result"
    }
   ],
   "source": [
    "a+b"
   ]
  },
  {
   "cell_type": "markdown",
   "id": "41d265d1",
   "metadata": {},
   "source": [
    "---\n",
    "## linalg"
   ]
  },
  {
   "cell_type": "code",
   "execution_count": 82,
   "id": "50c41fdf",
   "metadata": {},
   "outputs": [],
   "source": [
    "x = np.random.rand(3,3)"
   ]
  },
  {
   "cell_type": "code",
   "execution_count": 85,
   "id": "10b2f5a6",
   "metadata": {},
   "outputs": [
    {
     "data": {
      "text/plain": [
       "(array([[-0.14197095,  2.69003687, -2.58372234],\n",
       "        [-1.51076323,  1.85014403,  0.1427594 ],\n",
       "        [ 1.36404461, -2.23426854,  1.81961256]]),\n",
       " array([[ 1.00000000e+00, -1.42664982e-16,  9.70527561e-17],\n",
       "        [ 9.86965387e-17,  1.00000000e+00,  1.10125261e-16],\n",
       "        [-7.62965634e-17,  2.10212227e-16,  1.00000000e+00]]),\n",
       " array([[ 1.00000000e+00, -1.42664982e-16,  9.70527561e-17],\n",
       "        [ 9.86965387e-17,  1.00000000e+00,  1.10125261e-16],\n",
       "        [-7.62965634e-17,  2.10212227e-16,  1.00000000e+00]]))"
      ]
     },
     "execution_count": 85,
     "metadata": {},
     "output_type": "execute_result"
    }
   ],
   "source": [
    "# inv\n",
    "np.linalg.inv(x), x @ np.linalg.inv(x), \\\n",
    "np.matmul(x, np.linalg.inv(x))\n"
   ]
  },
  {
   "cell_type": "code",
   "execution_count": 87,
   "id": "01b36862",
   "metadata": {},
   "outputs": [
    {
     "data": {
      "text/plain": [
       "(array([18.,  7.]), True)"
      ]
     },
     "execution_count": 87,
     "metadata": {},
     "output_type": "execute_result"
    }
   ],
   "source": [
    "# solve\n",
    "A = np.array([[1,1],[2,4]])\n",
    "B = np.array([25,64])\n",
    "\n",
    "x = np.linalg.solve(A,B)\n",
    "\n",
    "x, np.allclose(A@x,B)"
   ]
  },
  {
   "cell_type": "markdown",
   "id": "ce623c7c",
   "metadata": {},
   "source": [
    "---\n",
    "## matplotlib"
   ]
  },
  {
   "cell_type": "code",
   "execution_count": 89,
   "id": "0ac400a6",
   "metadata": {},
   "outputs": [
    {
     "data": {
      "text/plain": [
       "(array([ 0.,  1.,  2.,  3.,  4.,  5.,  6.,  7.,  8.,  9., 10.]),\n",
       " array([  2.30476493,   3.62926543,   9.60244905,  14.29531679,\n",
       "         20.04968622,  32.50796108,  44.28907499,  57.22504107,\n",
       "         75.77223599,  91.78598453, 113.30758245]))"
      ]
     },
     "execution_count": 89,
     "metadata": {},
     "output_type": "execute_result"
    }
   ],
   "source": [
    "x = np.linspace(0,10,11)\n",
    "y = x ** 2 + x + 2 + np.random.randn(11)\n",
    "\n",
    "x,y"
   ]
  },
  {
   "cell_type": "code",
   "execution_count": 90,
   "id": "14bb5cc4",
   "metadata": {},
   "outputs": [
    {
     "data": {
      "text/plain": [
       "[<matplotlib.lines.Line2D at 0x7f97249a0f40>]"
      ]
     },
     "execution_count": 90,
     "metadata": {},
     "output_type": "execute_result"
    },
    {
     "data": {
      "image/png": "[encoded data removed]",
      "text/plain": [
       "<Figure size 432x288 with 1 Axes>"
      ]
     },
     "metadata": {
      "needs_background": "light"
     },
     "output_type": "display_data"
    }
   ],
   "source": [
    "plt.plot(x,y)"
   ]
  },
  {
   "cell_type": "code",
   "execution_count": 91,
   "id": "1e71c346",
   "metadata": {},
   "outputs": [
    {
     "data": {
      "text/plain": [
       "<matplotlib.collections.PathCollection at 0x7f9724ab4a60>"
      ]
     },
     "execution_count": 91,
     "metadata": {},
     "output_type": "execute_result"
    },
    {
     "data": {
      "image/png": "[encoded data removed]",
      "text/plain": [
       "<Figure size 432x288 with 1 Axes>"
      ]
     },
     "metadata": {
      "needs_background": "light"
     },
     "output_type": "display_data"
    }
   ],
   "source": [
    "plt.scatter(x,y)"
   ]
  },
  {
   "cell_type": "code",
   "execution_count": 92,
   "id": "31ae7f75",
   "metadata": {},
   "outputs": [
    {
     "data": {
      "text/plain": [
       "[<matplotlib.lines.Line2D at 0x7f9724d18940>]"
      ]
     },
     "execution_count": 92,
     "metadata": {},
     "output_type": "execute_result"
    },
    {
     "data": {
      "image/png": "[encoded data removed]",
      "text/plain": [
       "<Figure size 432x288 with 1 Axes>"
      ]
     },
     "metadata": {
      "needs_background": "light"
     },
     "output_type": "display_data"
    }
   ],
   "source": [
    "# 주석, 타이틀 추가\n",
    "plt.xlabel('X values')\n",
    "plt.ylabel('Y values')\n",
    "plt.title('X-Y relation')\n",
    "plt.plot(x,y)"
   ]
  },
  {
   "cell_type": "code",
   "execution_count": 93,
   "id": "2f9ac316",
   "metadata": {},
   "outputs": [
    {
     "data": {
      "text/plain": [
       "[<matplotlib.lines.Line2D at 0x7f9724d92b20>]"
      ]
     },
     "execution_count": 93,
     "metadata": {},
     "output_type": "execute_result"
    },
    {
     "data": {
      "image/png": "[encoded data removed]",
      "text/plain": [
       "<Figure size 432x288 with 1 Axes>"
      ]
     },
     "metadata": {
      "needs_background": "light"
     },
     "output_type": "display_data"
    }
   ],
   "source": [
    "# grid 추가\n",
    "plt.xlabel('X values')\n",
    "plt.ylabel('Y values')\n",
    "plt.title('X-Y relation')\n",
    "plt.grid(True)\n",
    "plt.plot(x,y) "
   ]
  },
  {
   "cell_type": "code",
   "execution_count": 94,
   "id": "a2f9561f",
   "metadata": {},
   "outputs": [
    {
     "data": {
      "text/plain": [
       "[<matplotlib.lines.Line2D at 0x7f9724f0f760>]"
      ]
     },
     "execution_count": 94,
     "metadata": {},
     "output_type": "execute_result"
    },
    {
     "data": {
      "image/png": "[encoded data removed]",
      "text/plain": [
       "<Figure size 432x288 with 1 Axes>"
      ]
     },
     "metadata": {
      "needs_background": "light"
     },
     "output_type": "display_data"
    }
   ],
   "source": [
    "# 범위지정\n",
    "plt.xlabel('X values')\n",
    "plt.ylabel('Y values')\n",
    "plt.title('X-Y relation')\n",
    "plt.grid(True)\n",
    "\n",
    "plt.xlim(0,20)\n",
    "plt.ylim(0,200)\n",
    "\n",
    "plt.plot(x,y) "
   ]
  },
  {
   "cell_type": "code",
   "execution_count": 96,
   "id": "85b05d97",
   "metadata": {},
   "outputs": [
    {
     "data": {
      "text/plain": [
       "[<matplotlib.lines.Line2D at 0x7f97250c9940>]"
      ]
     },
     "execution_count": 96,
     "metadata": {},
     "output_type": "execute_result"
    },
    {
     "data": {
      "image/png": "[encoded data removed]",
      "text/plain": [
       "<Figure size 432x288 with 1 Axes>"
      ]
     },
     "metadata": {
      "needs_background": "light"
     },
     "output_type": "display_data"
    }
   ],
   "source": [
    "plt.plot(x,y,'#ff00ff')"
   ]
  },
  {
   "cell_type": "code",
   "execution_count": 97,
   "id": "a8146714",
   "metadata": {},
   "outputs": [
    {
     "data": {
      "text/plain": [
       "[<matplotlib.lines.Line2D at 0x7f972520c7f0>]"
      ]
     },
     "execution_count": 97,
     "metadata": {},
     "output_type": "execute_result"
    },
    {
     "data": {
      "image/png": "[encoded data removed]",
      "text/plain": [
       "<Figure size 432x288 with 1 Axes>"
      ]
     },
     "metadata": {
      "needs_background": "light"
     },
     "output_type": "display_data"
    }
   ],
   "source": [
    "plt.plot(x,y,'-.')"
   ]
  },
  {
   "cell_type": "code",
   "execution_count": 98,
   "id": "38f4463e",
   "metadata": {},
   "outputs": [
    {
     "data": {
      "text/plain": [
       "[<matplotlib.lines.Line2D at 0x7f97252f59a0>]"
      ]
     },
     "execution_count": 98,
     "metadata": {},
     "output_type": "execute_result"
    },
    {
     "data": {
      "image/png": "[encoded data removed]",
      "text/plain": [
       "<Figure size 432x288 with 1 Axes>"
      ]
     },
     "metadata": {
      "needs_background": "light"
     },
     "output_type": "display_data"
    }
   ],
   "source": [
    "plt.plot(x,y,'g^')"
   ]
  },
  {
   "cell_type": "code",
   "execution_count": 100,
   "id": "a65d387e",
   "metadata": {},
   "outputs": [
    {
     "data": {
      "text/plain": [
       "[<matplotlib.lines.Line2D at 0x7f97254ca6a0>]"
      ]
     },
     "execution_count": 100,
     "metadata": {},
     "output_type": "execute_result"
    },
    {
     "data": {
      "image/png": "[encoded data removed]",
      "text/plain": [
       "<Figure size 432x288 with 1 Axes>"
      ]
     },
     "metadata": {
      "needs_background": "light"
     },
     "output_type": "display_data"
    }
   ],
   "source": [
    "plt.plot(x,y,'m:', linewidth=5)"
   ]
  },
  {
   "cell_type": "code",
   "execution_count": 104,
   "id": "4996b335",
   "metadata": {},
   "outputs": [
    {
     "data": {
      "text/plain": [
       "[<matplotlib.lines.Line2D at 0x7f9725925190>]"
      ]
     },
     "execution_count": 104,
     "metadata": {},
     "output_type": "execute_result"
    },
    {
     "data": {
      "image/png": "[encoded data removed]",
      "text/plain": [
       "<Figure size 432x288 with 1 Axes>"
      ]
     },
     "metadata": {
      "needs_background": "light"
     },
     "output_type": "display_data"
    }
   ],
   "source": [
    "plt.plot(x, y, color='r',\n",
    "        linestyle='-.', marker='^', markersize=6)"
   ]
  },
  {
   "cell_type": "code",
   "execution_count": 105,
   "id": "26bcb6a0",
   "metadata": {},
   "outputs": [
    {
     "data": {
      "text/plain": [
       "[<matplotlib.lines.Line2D at 0x7f97257e1b80>]"
      ]
     },
     "execution_count": 105,
     "metadata": {},
     "output_type": "execute_result"
    },
    {
     "data": {
      "image/png": "[encoded data removed]",
      "text/plain": [
       "<Figure size 432x288 with 4 Axes>"
      ]
     },
     "metadata": {
      "needs_background": "light"
     },
     "output_type": "display_data"
    }
   ],
   "source": [
    "plt.subplot(2, 2, 1)\n",
    "plt.plot(x,y,'r')\n",
    "\n",
    "plt.subplot(2, 2, 2)\n",
    "plt.plot(x,y,'g')\n",
    "\n",
    "plt.subplot(2, 2, 3)\n",
    "plt.plot(y,x,'k')\n",
    "\n",
    "plt.subplot(2, 2, 4)\n",
    "plt.plot(x, np.exp(x))"
   ]
  },
  {
   "cell_type": "code",
   "execution_count": 106,
   "id": "2ef99ff4",
   "metadata": {},
   "outputs": [],
   "source": [
    "data = np.random.randint(1,100,200)"
   ]
  },
  {
   "cell_type": "code",
   "execution_count": 110,
   "id": "8b43070e",
   "metadata": {},
   "outputs": [
    {
     "data": {
      "image/png": "[encoded data removed]",
      "text/plain": [
       "<Figure size 432x288 with 1 Axes>"
      ]
     },
     "metadata": {
      "needs_background": "light"
     },
     "output_type": "display_data"
    }
   ],
   "source": [
    "plt.hist(data,bins=10, alpha=0.7)\n",
    "plt.xlabel('값')\n",
    "plt.ylabel('개수')\n",
    "plt.grid(True)"
   ]
  },
  {
   "cell_type": "markdown",
   "id": "d01fbffc",
   "metadata": {},
   "source": [
    "---\n",
    "### 로또 번호 자동 생성기"
   ]
  },
  {
   "cell_type": "code",
   "execution_count": 116,
   "id": "b998d651",
   "metadata": {},
   "outputs": [
    {
     "data": {
      "text/plain": [
       "array([41, 38, 21, 11, 33, 44])"
      ]
     },
     "execution_count": 116,
     "metadata": {},
     "output_type": "execute_result"
    }
   ],
   "source": [
    "def generate_lotto_nums():\n",
    "    return np.random.choice(np.arange(1,46), size=6, replace=False)\n",
    "\n",
    "generate_lotto_nums()"
   ]
  },
  {
   "cell_type": "markdown",
   "id": "38b4f6b8",
   "metadata": {},
   "source": [
    "### MC 방법으로 원주율 구하기"
   ]
  },
  {
   "cell_type": "code",
   "execution_count": 120,
   "id": "d5a04342",
   "metadata": {},
   "outputs": [
    {
     "data": {
      "text/plain": [
       "3.1419472"
      ]
     },
     "execution_count": 120,
     "metadata": {},
     "output_type": "execute_result"
    }
   ],
   "source": [
    "total = int(1e7)\n",
    "points = np.random.rand(total,2)\n",
    "\n",
    "4 * np.sum(np.sum(points ** 2, axis=1) < 1) / total"
   ]
  },
  {
   "cell_type": "code",
   "execution_count": null,
   "id": "89de7664",
   "metadata": {},
   "outputs": [],
   "source": []
  }
 ],
 "metadata": {
  "kernelspec": {
   "display_name": "Python 3 (ipykernel)",
   "language": "python",
   "name": "python3"
  },
  "language_info": {
   "codemirror_mode": {
    "name": "ipython",
    "version": 3
   },
   "file_extension": ".py",
   "mimetype": "text/x-python",
   "name": "python",
   "nbconvert_exporter": "python",
   "pygments_lexer": "ipython3",
   "version": "3.8.12"
  }
 },
 "nbformat": 4,
 "nbformat_minor": 5
}
